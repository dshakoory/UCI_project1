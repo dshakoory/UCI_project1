{
 "cells": [
  {
   "cell_type": "code",
   "execution_count": 1,
   "metadata": {},
   "outputs": [],
   "source": [
    "import pandas as pd\n",
    "import matplotlib.pyplot as plt\n",
    "import numpy as np\n",
    "import warnings\n",
    "# warnings.filterwarnings('ignore')"
   ]
  },
  {
   "cell_type": "code",
   "execution_count": null,
   "metadata": {},
   "outputs": [],
   "source": [
    "BLS_data_20171 = pd.read_excel('all_data_M_2017.xlsx')  # parameter (sheetname='sheet_name') is optional\n",
    "BLS_data_20171.to_csv('all_data_M_2017.csv', index=False)  # index=True to write row index\n",
    "BLS_data_20181 = pd.read_excel('all_data_M_2018.xlsx')  # parameter (sheetname='sheet_name') is optional\n",
    "BLS_data_20181.to_csv('all_data_M_2018.csv', index=False)  # index=True to write row index\n",
    "\n",
    "\n",
    "BLS_data_2017 = pd.read_csv(\"all_data_M_2017.csv\")\n",
    "BLS_data_2018 = pd.read_csv(\"all_data_M_2018.csv\")\n",
    "set_2017_df = BLS_data_2017[[\"area_title\",\"naics_title\",\"occ_code\",\"a_median\",\"h_median\",\"tot_emp\",\"naics\",\"o_group\"]]\n",
    "set_2018_df = BLS_data_2018[[\"area_title\",\"naics_title\",\"occ_code\",\"a_median\",\"h_median\",\"tot_emp\",\"naics\",\"o_group\"]]"
   ]
  },
  {
   "cell_type": "code",
   "execution_count": null,
   "metadata": {},
   "outputs": [],
   "source": [
    "set_2017_df"
   ]
  },
  {
   "cell_type": "code",
   "execution_count": null,
   "metadata": {},
   "outputs": [],
   "source": [
    "set_2017_df=set_2017_df.loc[set_2017_df['o_group'] == 'total']\n",
    "set_2018_df=set_2018_df.loc[set_2018_df['o_group'] == 'total']"
   ]
  },
  {
   "cell_type": "code",
   "execution_count": null,
   "metadata": {},
   "outputs": [],
   "source": [
    "set_2017_df=set_2017_df.loc[set_2017_df['area_title'] == 'U.S.']\n",
    "set_2018_df=set_2018_df.loc[set_2018_df['area_title'] == 'U.S.']"
   ]
  },
  {
   "cell_type": "code",
   "execution_count": null,
   "metadata": {},
   "outputs": [],
   "source": [
    "set_2017_df"
   ]
  },
  {
   "cell_type": "code",
   "execution_count": null,
   "metadata": {},
   "outputs": [],
   "source": [
    "combined_data = pd.merge(set_2017_df, set_2018_df, on=\"occ_code\", suffixes=('_2017', '_2018'), how='inner')\n",
    "combined_data"
   ]
  },
  {
   "cell_type": "code",
   "execution_count": null,
   "metadata": {},
   "outputs": [],
   "source": [
    "combined_data = pd.merge(set_2017_df, set_2018_df, on=\"occ_code\", suffixes=('_2017', '_2018'), how='outer')\n",
    "combined_data.loc[combined_data[\"naics_title_2017\"] == \"Data Processing, Hosting, and Related Services\", :]"
   ]
  },
  {
   "cell_type": "code",
   "execution_count": null,
   "metadata": {},
   "outputs": [],
   "source": [
    "combined_data[\"tot_emp_2018\"] = combined_data[\"tot_emp_2018\"].str.replace(',', '')  #remove comma in numbers\n",
    "combined_data[\"tot_emp_2017\"] = combined_data[\"tot_emp_2017\"].str.replace(',', '')  #remove comma in numbers"
   ]
  },
  {
   "cell_type": "code",
   "execution_count": null,
   "metadata": {},
   "outputs": [],
   "source": [
    "combined_data[\"tot_emp_2018\"] = combined_data[\"tot_emp_2018\"].str.replace('*', '0')  #remove comma in numbers\n",
    "combined_data[\"tot_emp_2017\"] = combined_data[\"tot_emp_2017\"].str.replace('*', '0')  #remove comma in numbers"
   ]
  },
  {
   "cell_type": "code",
   "execution_count": null,
   "metadata": {},
   "outputs": [],
   "source": [
    "# checkfortext_df = combined_data.loc[combined_data['tot_emp_2018'].str.isdigit(), 'tot_emp_2018']\n",
    "# checkfortext_df"
   ]
  },
  {
   "cell_type": "code",
   "execution_count": null,
   "metadata": {},
   "outputs": [],
   "source": [
    "combined_data[\"difference\"] = combined_data[\"tot_emp_2018\"].astype(float) - combined_data[\"tot_emp_2017\"].astype(float)"
   ]
  },
  {
   "cell_type": "code",
   "execution_count": null,
   "metadata": {},
   "outputs": [],
   "source": [
    "combined_data[\"Percentage\"] = round(combined_data[\"difference\"].astype(float)/combined_data[\"tot_emp_2017\"].astype(float),2).astype(float)"
   ]
  },
  {
   "cell_type": "code",
   "execution_count": null,
   "metadata": {},
   "outputs": [],
   "source": [
    "# checkfortext_df = combined_data.loc[~combined_data['Percentage'].str.isdigit(),'Percentage']\n",
    "# checkfortext_df"
   ]
  },
  {
   "cell_type": "code",
   "execution_count": null,
   "metadata": {},
   "outputs": [],
   "source": [
    "combined_data=combined_data.loc[combined_data['naics_title_2017'] == combined_data['naics_title_2018']]\n",
    "combined_data=combined_data.loc[combined_data['naics_2017'] == combined_data['naics_2018']]\n",
    "combined_data.head()"
   ]
  },
  {
   "cell_type": "code",
   "execution_count": null,
   "metadata": {},
   "outputs": [],
   "source": [
    "combined_data[\"Percentage\"]=combined_data[\"Percentage\"].astype(float)\n",
    "combined_data.head()"
   ]
  },
  {
   "cell_type": "code",
   "execution_count": null,
   "metadata": {},
   "outputs": [],
   "source": [
    "combined_data=combined_data.sort_values(by='Percentage',ascending=False)\n",
    "combined_data.head()"
   ]
  },
  {
   "cell_type": "code",
   "execution_count": null,
   "metadata": {
    "scrolled": true
   },
   "outputs": [],
   "source": [
    "combined_data=combined_data.loc[combined_data['Percentage'] <= 100000000]\n",
    "combined_data.head(50)"
   ]
  },
  {
   "cell_type": "code",
   "execution_count": null,
   "metadata": {},
   "outputs": [],
   "source": [
    "combined_data=combined_data.loc[combined_data['tot_emp_2017'].astype(float) >= 10000]\n",
    "combined_data=combined_data.loc[combined_data['tot_emp_2018'].astype(float) >= 10000]"
   ]
  },
  {
   "cell_type": "code",
   "execution_count": null,
   "metadata": {},
   "outputs": [],
   "source": [
    "combined_data.head(50)"
   ]
  },
  {
   "cell_type": "code",
   "execution_count": null,
   "metadata": {},
   "outputs": [],
   "source": [
    "combined_data[\"a_median_2018\"] = combined_data[\"a_median_2018\"].str.replace(',', '')  #remove comma in numbers\n",
    "combined_data[\"a_median_2017\"] = combined_data[\"a_median_2017\"].str.replace(',', '')  #remove comma in numbers"
   ]
  },
  {
   "cell_type": "code",
   "execution_count": null,
   "metadata": {},
   "outputs": [],
   "source": [
    "combined_data[\"a_median_2018\"] = combined_data[\"a_median_2018\"].str.replace('*', '0')  #remove comma in numbers\n",
    "combined_data[\"a_median_2017\"] = combined_data[\"a_median_2017\"].str.replace('*', '0')  #remove comma in numbers"
   ]
  },
  {
   "cell_type": "code",
   "execution_count": null,
   "metadata": {},
   "outputs": [],
   "source": [
    "combined_data[\"a_median_2018\"] = combined_data[\"a_median_2018\"].str.replace('#', '0')  #remove comma in numbers\n",
    "combined_data[\"a_median_2017\"] = combined_data[\"a_median_2017\"].str.replace('#', '0')  #remove comma in numbers"
   ]
  },
  {
   "cell_type": "code",
   "execution_count": null,
   "metadata": {},
   "outputs": [],
   "source": [
    "combined_data[\"pay_difference\"] = combined_data[\"a_median_2017\"].astype(float) - combined_data[\"a_median_2018\"].astype(float)"
   ]
  },
  {
   "cell_type": "code",
   "execution_count": null,
   "metadata": {},
   "outputs": [],
   "source": [
    "combined_data[\"PayDifferencePercentage\"] = round(combined_data[\"pay_difference\"].astype(float)/combined_data[\"a_median_2017\"].astype(float),2).astype(float)\n",
    "combined_data.head(50)"
   ]
  },
  {
   "cell_type": "code",
   "execution_count": null,
   "metadata": {
    "scrolled": true
   },
   "outputs": [],
   "source": [
    "# combined_data.sort_values[by='PayDifferencePercentage'].head(50)"
   ]
  },
  {
   "cell_type": "code",
   "execution_count": null,
   "metadata": {},
   "outputs": [],
   "source": [
    "hello = combined_data.plot.scatter(x='Percentage', y='PayDifferencePercentage',label='occ_title_2017')"
   ]
  },
  {
   "cell_type": "code",
   "execution_count": null,
   "metadata": {},
   "outputs": [],
   "source": []
  },
  {
   "cell_type": "code",
   "execution_count": null,
   "metadata": {},
   "outputs": [],
   "source": []
  }
 ],
 "metadata": {
  "kernelspec": {
   "display_name": "Python 3",
   "language": "python",
   "name": "python3"
  },
  "language_info": {
   "codemirror_mode": {
    "name": "ipython",
    "version": 3
   },
   "file_extension": ".py",
   "mimetype": "text/x-python",
   "name": "python",
   "nbconvert_exporter": "python",
   "pygments_lexer": "ipython3",
   "version": "3.7.3"
  }
 },
 "nbformat": 4,
 "nbformat_minor": 2
}
